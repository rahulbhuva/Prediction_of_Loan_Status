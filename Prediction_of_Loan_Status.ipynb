{
  "cells": [
    {
      "cell_type": "markdown",
      "source": [
        "#**Predict Loan status detection**"
      ],
      "metadata": {
        "id": "Y_RsrpxqzZKZ"
      },
      "id": "Y_RsrpxqzZKZ"
    },
    {
      "cell_type": "markdown",
      "id": "07dbc447",
      "metadata": {
        "id": "07dbc447"
      },
      "source": [
        "## Load Data"
      ]
    },
    {
      "cell_type": "code",
      "execution_count": 6,
      "id": "78aeaef2",
      "metadata": {
        "id": "78aeaef2"
      },
      "outputs": [],
      "source": [
        "import pandas as pd\n",
        "import numpy as np"
      ]
    },
    {
      "cell_type": "code",
      "execution_count": 7,
      "id": "4f71f9f1",
      "metadata": {
        "id": "4f71f9f1"
      },
      "outputs": [],
      "source": [
        "file_path = \"/content/train_u6lujuX_CVtuZ9i (1).csv\""
      ]
    },
    {
      "cell_type": "code",
      "execution_count": 8,
      "id": "526d2f49",
      "metadata": {
        "id": "526d2f49"
      },
      "outputs": [],
      "source": [
        "training_data = pd.read_csv(file_path)"
      ]
    },
    {
      "cell_type": "code",
      "execution_count": 9,
      "id": "8bcd570e",
      "metadata": {
        "colab": {
          "base_uri": "https://localhost:8080/",
          "height": 244
        },
        "id": "8bcd570e",
        "outputId": "b5732ab7-c2e6-4a8e-97bd-6f1f1ef86d68"
      },
      "outputs": [
        {
          "output_type": "execute_result",
          "data": {
            "text/html": [
              "<div>\n",
              "<style scoped>\n",
              "    .dataframe tbody tr th:only-of-type {\n",
              "        vertical-align: middle;\n",
              "    }\n",
              "\n",
              "    .dataframe tbody tr th {\n",
              "        vertical-align: top;\n",
              "    }\n",
              "\n",
              "    .dataframe thead th {\n",
              "        text-align: right;\n",
              "    }\n",
              "</style>\n",
              "<table border=\"1\" class=\"dataframe\">\n",
              "  <thead>\n",
              "    <tr style=\"text-align: right;\">\n",
              "      <th></th>\n",
              "      <th>Loan_ID</th>\n",
              "      <th>Gender</th>\n",
              "      <th>Married</th>\n",
              "      <th>Dependents</th>\n",
              "      <th>Education</th>\n",
              "      <th>Self_Employed</th>\n",
              "      <th>ApplicantIncome</th>\n",
              "      <th>CoapplicantIncome</th>\n",
              "      <th>LoanAmount</th>\n",
              "      <th>Loan_Amount_Term</th>\n",
              "      <th>Credit_History</th>\n",
              "      <th>Property_Area</th>\n",
              "      <th>Loan_Status</th>\n",
              "    </tr>\n",
              "  </thead>\n",
              "  <tbody>\n",
              "    <tr>\n",
              "      <th>0</th>\n",
              "      <td>LP001002</td>\n",
              "      <td>Male</td>\n",
              "      <td>No</td>\n",
              "      <td>0</td>\n",
              "      <td>Graduate</td>\n",
              "      <td>No</td>\n",
              "      <td>5849</td>\n",
              "      <td>0.0</td>\n",
              "      <td>NaN</td>\n",
              "      <td>360.0</td>\n",
              "      <td>1.0</td>\n",
              "      <td>Urban</td>\n",
              "      <td>Y</td>\n",
              "    </tr>\n",
              "    <tr>\n",
              "      <th>1</th>\n",
              "      <td>LP001003</td>\n",
              "      <td>Male</td>\n",
              "      <td>Yes</td>\n",
              "      <td>1</td>\n",
              "      <td>Graduate</td>\n",
              "      <td>No</td>\n",
              "      <td>4583</td>\n",
              "      <td>1508.0</td>\n",
              "      <td>128.0</td>\n",
              "      <td>360.0</td>\n",
              "      <td>1.0</td>\n",
              "      <td>Rural</td>\n",
              "      <td>N</td>\n",
              "    </tr>\n",
              "    <tr>\n",
              "      <th>2</th>\n",
              "      <td>LP001005</td>\n",
              "      <td>Male</td>\n",
              "      <td>Yes</td>\n",
              "      <td>0</td>\n",
              "      <td>Graduate</td>\n",
              "      <td>Yes</td>\n",
              "      <td>3000</td>\n",
              "      <td>0.0</td>\n",
              "      <td>66.0</td>\n",
              "      <td>360.0</td>\n",
              "      <td>1.0</td>\n",
              "      <td>Urban</td>\n",
              "      <td>Y</td>\n",
              "    </tr>\n",
              "    <tr>\n",
              "      <th>3</th>\n",
              "      <td>LP001006</td>\n",
              "      <td>Male</td>\n",
              "      <td>Yes</td>\n",
              "      <td>0</td>\n",
              "      <td>Not Graduate</td>\n",
              "      <td>No</td>\n",
              "      <td>2583</td>\n",
              "      <td>2358.0</td>\n",
              "      <td>120.0</td>\n",
              "      <td>360.0</td>\n",
              "      <td>1.0</td>\n",
              "      <td>Urban</td>\n",
              "      <td>Y</td>\n",
              "    </tr>\n",
              "    <tr>\n",
              "      <th>4</th>\n",
              "      <td>LP001008</td>\n",
              "      <td>Male</td>\n",
              "      <td>No</td>\n",
              "      <td>0</td>\n",
              "      <td>Graduate</td>\n",
              "      <td>No</td>\n",
              "      <td>6000</td>\n",
              "      <td>0.0</td>\n",
              "      <td>141.0</td>\n",
              "      <td>360.0</td>\n",
              "      <td>1.0</td>\n",
              "      <td>Urban</td>\n",
              "      <td>Y</td>\n",
              "    </tr>\n",
              "  </tbody>\n",
              "</table>\n",
              "</div>"
            ],
            "text/plain": [
              "    Loan_ID Gender Married  ... Credit_History Property_Area Loan_Status\n",
              "0  LP001002   Male      No  ...            1.0         Urban           Y\n",
              "1  LP001003   Male     Yes  ...            1.0         Rural           N\n",
              "2  LP001005   Male     Yes  ...            1.0         Urban           Y\n",
              "3  LP001006   Male     Yes  ...            1.0         Urban           Y\n",
              "4  LP001008   Male      No  ...            1.0         Urban           Y\n",
              "\n",
              "[5 rows x 13 columns]"
            ]
          },
          "metadata": {},
          "execution_count": 9
        }
      ],
      "source": [
        "training_data.head()"
      ]
    },
    {
      "cell_type": "markdown",
      "id": "7fba4a59",
      "metadata": {
        "id": "7fba4a59"
      },
      "source": [
        "## Preprocess Data"
      ]
    },
    {
      "cell_type": "code",
      "execution_count": 10,
      "id": "c914925e",
      "metadata": {
        "id": "c914925e"
      },
      "outputs": [],
      "source": [
        "def normalize_data(df, columns):\n",
        "    for _column in columns:\n",
        "        df[_column + \"_normalized\"] = np.sqrt(df[_column])\n",
        "    return df\n",
        "\n",
        "training_data = normalize_data(training_data, [\"LoanAmount\", \"ApplicantIncome\", \"CoapplicantIncome\"])"
      ]
    },
    {
      "cell_type": "code",
      "execution_count": 11,
      "id": "c02ffc7d",
      "metadata": {
        "colab": {
          "base_uri": "https://localhost:8080/",
          "height": 284
        },
        "id": "c02ffc7d",
        "outputId": "fdc22ccd-ea16-4a58-8166-9a14aa31a576"
      },
      "outputs": [
        {
          "output_type": "execute_result",
          "data": {
            "text/plain": [
              "<matplotlib.axes._subplots.AxesSubplot at 0x7f50714eb790>"
            ]
          },
          "metadata": {},
          "execution_count": 11
        },
        {
          "output_type": "display_data",
          "data": {
            "image/png": "[encoded data removed]",
            "text/plain": [
              "<Figure size 432x288 with 1 Axes>"
            ]
          },
          "metadata": {
            "needs_background": "light"
          }
        }
      ],
      "source": [
        "training_data[\"LoanAmount\"].hist(bins=15)"
      ]
    },
    {
      "cell_type": "code",
      "execution_count": 12,
      "id": "819c417a",
      "metadata": {
        "colab": {
          "base_uri": "https://localhost:8080/",
          "height": 284
        },
        "id": "819c417a",
        "outputId": "8369d542-e220-4f90-aa05-4296f2aebef3"
      },
      "outputs": [
        {
          "output_type": "execute_result",
          "data": {
            "text/plain": [
              "<matplotlib.axes._subplots.AxesSubplot at 0x7f5071521b50>"
            ]
          },
          "metadata": {},
          "execution_count": 12
        },
        {
          "output_type": "display_data",
          "data": {
            "image/png": "[encoded data removed]",
            "text/plain": [
              "<Figure size 432x288 with 1 Axes>"
            ]
          },
          "metadata": {
            "needs_background": "light"
          }
        }
      ],
      "source": [
        "training_data[\"LoanAmount_normalized\"].hist(bins=15)"
      ]
    },
    {
      "cell_type": "code",
      "execution_count": 13,
      "id": "561dba3b",
      "metadata": {
        "colab": {
          "base_uri": "https://localhost:8080/"
        },
        "id": "561dba3b",
        "outputId": "c8d6ecb4-d85c-4934-ebf5-7696b7c3450d"
      },
      "outputs": [
        {
          "output_type": "execute_result",
          "data": {
            "text/plain": [
              "Loan_ID                          0\n",
              "Gender                          13\n",
              "Married                          3\n",
              "Dependents                      15\n",
              "Education                        0\n",
              "Self_Employed                   32\n",
              "ApplicantIncome                  0\n",
              "CoapplicantIncome                0\n",
              "LoanAmount                      22\n",
              "Loan_Amount_Term                14\n",
              "Credit_History                  50\n",
              "Property_Area                    0\n",
              "Loan_Status                      0\n",
              "LoanAmount_normalized           22\n",
              "ApplicantIncome_normalized       0\n",
              "CoapplicantIncome_normalized     0\n",
              "dtype: int64"
            ]
          },
          "metadata": {},
          "execution_count": 13
        }
      ],
      "source": [
        "training_data.isnull().sum()"
      ]
    },
    {
      "cell_type": "code",
      "execution_count": 14,
      "id": "09ff812c",
      "metadata": {
        "id": "09ff812c"
      },
      "outputs": [],
      "source": [
        "def handle_null(df, columns1, columns2):\n",
        "    for _column in columns1:\n",
        "        df[_column].fillna(df[_column].mode()[0], inplace=True)\n",
        "    for _column in columns2:\n",
        "        df[_column].fillna(df[_column].mean(), inplace=True)\n",
        "    return df\n",
        "\n",
        "training_data = handle_null(training_data, [\"Gender\", \"Married\", \"Dependents\", \"Self_Employed\", \n",
        "                                            \"Loan_Amount_Term\", \"Credit_History\"], \n",
        "                            [\"LoanAmount_normalized\"])"
      ]
    },
    {
      "cell_type": "code",
      "execution_count": 15,
      "id": "1561fe15",
      "metadata": {
        "colab": {
          "base_uri": "https://localhost:8080/"
        },
        "id": "1561fe15",
        "outputId": "481bae97-50ec-4ffb-cea6-5b550d35538d"
      },
      "outputs": [
        {
          "output_type": "execute_result",
          "data": {
            "text/plain": [
              "Loan_ID                          0\n",
              "Gender                           0\n",
              "Married                          0\n",
              "Dependents                       0\n",
              "Education                        0\n",
              "Self_Employed                    0\n",
              "ApplicantIncome                  0\n",
              "CoapplicantIncome                0\n",
              "LoanAmount                      22\n",
              "Loan_Amount_Term                 0\n",
              "Credit_History                   0\n",
              "Property_Area                    0\n",
              "Loan_Status                      0\n",
              "LoanAmount_normalized            0\n",
              "ApplicantIncome_normalized       0\n",
              "CoapplicantIncome_normalized     0\n",
              "dtype: int64"
            ]
          },
          "metadata": {},
          "execution_count": 15
        }
      ],
      "source": [
        "training_data.isnull().sum()"
      ]
    },
    {
      "cell_type": "code",
      "execution_count": 16,
      "id": "569f69a0",
      "metadata": {
        "colab": {
          "base_uri": "https://localhost:8080/",
          "height": 244
        },
        "id": "569f69a0",
        "outputId": "c56dd82e-fd5d-43da-e11b-a0226fa31957"
      },
      "outputs": [
        {
          "output_type": "execute_result",
          "data": {
            "text/html": [
              "<div>\n",
              "<style scoped>\n",
              "    .dataframe tbody tr th:only-of-type {\n",
              "        vertical-align: middle;\n",
              "    }\n",
              "\n",
              "    .dataframe tbody tr th {\n",
              "        vertical-align: top;\n",
              "    }\n",
              "\n",
              "    .dataframe thead th {\n",
              "        text-align: right;\n",
              "    }\n",
              "</style>\n",
              "<table border=\"1\" class=\"dataframe\">\n",
              "  <thead>\n",
              "    <tr style=\"text-align: right;\">\n",
              "      <th></th>\n",
              "      <th>Loan_ID</th>\n",
              "      <th>Gender</th>\n",
              "      <th>Married</th>\n",
              "      <th>Dependents</th>\n",
              "      <th>Education</th>\n",
              "      <th>Self_Employed</th>\n",
              "      <th>ApplicantIncome</th>\n",
              "      <th>CoapplicantIncome</th>\n",
              "      <th>LoanAmount</th>\n",
              "      <th>Loan_Amount_Term</th>\n",
              "      <th>Credit_History</th>\n",
              "      <th>Property_Area</th>\n",
              "      <th>Loan_Status</th>\n",
              "      <th>LoanAmount_normalized</th>\n",
              "      <th>ApplicantIncome_normalized</th>\n",
              "      <th>CoapplicantIncome_normalized</th>\n",
              "    </tr>\n",
              "  </thead>\n",
              "  <tbody>\n",
              "    <tr>\n",
              "      <th>0</th>\n",
              "      <td>LP001002</td>\n",
              "      <td>Male</td>\n",
              "      <td>No</td>\n",
              "      <td>0</td>\n",
              "      <td>Graduate</td>\n",
              "      <td>No</td>\n",
              "      <td>5849</td>\n",
              "      <td>0.0</td>\n",
              "      <td>NaN</td>\n",
              "      <td>360.0</td>\n",
              "      <td>1.0</td>\n",
              "      <td>Urban</td>\n",
              "      <td>Y</td>\n",
              "      <td>11.709994</td>\n",
              "      <td>76.478755</td>\n",
              "      <td>0.000000</td>\n",
              "    </tr>\n",
              "    <tr>\n",
              "      <th>1</th>\n",
              "      <td>LP001003</td>\n",
              "      <td>Male</td>\n",
              "      <td>Yes</td>\n",
              "      <td>1</td>\n",
              "      <td>Graduate</td>\n",
              "      <td>No</td>\n",
              "      <td>4583</td>\n",
              "      <td>1508.0</td>\n",
              "      <td>128.0</td>\n",
              "      <td>360.0</td>\n",
              "      <td>1.0</td>\n",
              "      <td>Rural</td>\n",
              "      <td>N</td>\n",
              "      <td>11.313708</td>\n",
              "      <td>67.697858</td>\n",
              "      <td>38.832976</td>\n",
              "    </tr>\n",
              "    <tr>\n",
              "      <th>2</th>\n",
              "      <td>LP001005</td>\n",
              "      <td>Male</td>\n",
              "      <td>Yes</td>\n",
              "      <td>0</td>\n",
              "      <td>Graduate</td>\n",
              "      <td>Yes</td>\n",
              "      <td>3000</td>\n",
              "      <td>0.0</td>\n",
              "      <td>66.0</td>\n",
              "      <td>360.0</td>\n",
              "      <td>1.0</td>\n",
              "      <td>Urban</td>\n",
              "      <td>Y</td>\n",
              "      <td>8.124038</td>\n",
              "      <td>54.772256</td>\n",
              "      <td>0.000000</td>\n",
              "    </tr>\n",
              "    <tr>\n",
              "      <th>3</th>\n",
              "      <td>LP001006</td>\n",
              "      <td>Male</td>\n",
              "      <td>Yes</td>\n",
              "      <td>0</td>\n",
              "      <td>Not Graduate</td>\n",
              "      <td>No</td>\n",
              "      <td>2583</td>\n",
              "      <td>2358.0</td>\n",
              "      <td>120.0</td>\n",
              "      <td>360.0</td>\n",
              "      <td>1.0</td>\n",
              "      <td>Urban</td>\n",
              "      <td>Y</td>\n",
              "      <td>10.954451</td>\n",
              "      <td>50.823223</td>\n",
              "      <td>48.559242</td>\n",
              "    </tr>\n",
              "    <tr>\n",
              "      <th>4</th>\n",
              "      <td>LP001008</td>\n",
              "      <td>Male</td>\n",
              "      <td>No</td>\n",
              "      <td>0</td>\n",
              "      <td>Graduate</td>\n",
              "      <td>No</td>\n",
              "      <td>6000</td>\n",
              "      <td>0.0</td>\n",
              "      <td>141.0</td>\n",
              "      <td>360.0</td>\n",
              "      <td>1.0</td>\n",
              "      <td>Urban</td>\n",
              "      <td>Y</td>\n",
              "      <td>11.874342</td>\n",
              "      <td>77.459667</td>\n",
              "      <td>0.000000</td>\n",
              "    </tr>\n",
              "  </tbody>\n",
              "</table>\n",
              "</div>"
            ],
            "text/plain": [
              "    Loan_ID Gender  ... ApplicantIncome_normalized CoapplicantIncome_normalized\n",
              "0  LP001002   Male  ...                  76.478755                     0.000000\n",
              "1  LP001003   Male  ...                  67.697858                    38.832976\n",
              "2  LP001005   Male  ...                  54.772256                     0.000000\n",
              "3  LP001006   Male  ...                  50.823223                    48.559242\n",
              "4  LP001008   Male  ...                  77.459667                     0.000000\n",
              "\n",
              "[5 rows x 16 columns]"
            ]
          },
          "metadata": {},
          "execution_count": 16
        }
      ],
      "source": [
        "training_data.head()"
      ]
    },
    {
      "cell_type": "markdown",
      "id": "40ded067",
      "metadata": {
        "id": "40ded067"
      },
      "source": [
        "## Prepare Data"
      ]
    },
    {
      "cell_type": "code",
      "execution_count": 17,
      "id": "f0ab42eb",
      "metadata": {
        "id": "f0ab42eb"
      },
      "outputs": [],
      "source": [
        "relevant_fields = [\"Gender\", \"Married\", \"Dependents\", \"Education\", \"Self_Employed\", \"Loan_Amount_Term\", \"Credit_History\",\n",
        "                  \"Property_Area\", \"Loan_Status\", \"LoanAmount_normalized\", \"ApplicantIncome_normalized\",\n",
        "                  \"CoapplicantIncome_normalized\"]"
      ]
    },
    {
      "cell_type": "code",
      "execution_count": 18,
      "id": "491de432",
      "metadata": {
        "id": "491de432"
      },
      "outputs": [],
      "source": [
        "# continue with only relevant fields\n",
        "final_training_data = training_data[[*relevant_fields]]"
      ]
    },
    {
      "cell_type": "code",
      "execution_count": 19,
      "id": "ed4f239b",
      "metadata": {
        "colab": {
          "base_uri": "https://localhost:8080/",
          "height": 244
        },
        "id": "ed4f239b",
        "outputId": "625170a5-c44f-4ef6-922e-27b2ae24a1fd"
      },
      "outputs": [
        {
          "output_type": "execute_result",
          "data": {
            "text/html": [
              "<div>\n",
              "<style scoped>\n",
              "    .dataframe tbody tr th:only-of-type {\n",
              "        vertical-align: middle;\n",
              "    }\n",
              "\n",
              "    .dataframe tbody tr th {\n",
              "        vertical-align: top;\n",
              "    }\n",
              "\n",
              "    .dataframe thead th {\n",
              "        text-align: right;\n",
              "    }\n",
              "</style>\n",
              "<table border=\"1\" class=\"dataframe\">\n",
              "  <thead>\n",
              "    <tr style=\"text-align: right;\">\n",
              "      <th></th>\n",
              "      <th>Gender</th>\n",
              "      <th>Married</th>\n",
              "      <th>Dependents</th>\n",
              "      <th>Education</th>\n",
              "      <th>Self_Employed</th>\n",
              "      <th>Loan_Amount_Term</th>\n",
              "      <th>Credit_History</th>\n",
              "      <th>Property_Area</th>\n",
              "      <th>Loan_Status</th>\n",
              "      <th>LoanAmount_normalized</th>\n",
              "      <th>ApplicantIncome_normalized</th>\n",
              "      <th>CoapplicantIncome_normalized</th>\n",
              "    </tr>\n",
              "  </thead>\n",
              "  <tbody>\n",
              "    <tr>\n",
              "      <th>0</th>\n",
              "      <td>Male</td>\n",
              "      <td>No</td>\n",
              "      <td>0</td>\n",
              "      <td>Graduate</td>\n",
              "      <td>No</td>\n",
              "      <td>360.0</td>\n",
              "      <td>1.0</td>\n",
              "      <td>Urban</td>\n",
              "      <td>Y</td>\n",
              "      <td>11.709994</td>\n",
              "      <td>76.478755</td>\n",
              "      <td>0.000000</td>\n",
              "    </tr>\n",
              "    <tr>\n",
              "      <th>1</th>\n",
              "      <td>Male</td>\n",
              "      <td>Yes</td>\n",
              "      <td>1</td>\n",
              "      <td>Graduate</td>\n",
              "      <td>No</td>\n",
              "      <td>360.0</td>\n",
              "      <td>1.0</td>\n",
              "      <td>Rural</td>\n",
              "      <td>N</td>\n",
              "      <td>11.313708</td>\n",
              "      <td>67.697858</td>\n",
              "      <td>38.832976</td>\n",
              "    </tr>\n",
              "    <tr>\n",
              "      <th>2</th>\n",
              "      <td>Male</td>\n",
              "      <td>Yes</td>\n",
              "      <td>0</td>\n",
              "      <td>Graduate</td>\n",
              "      <td>Yes</td>\n",
              "      <td>360.0</td>\n",
              "      <td>1.0</td>\n",
              "      <td>Urban</td>\n",
              "      <td>Y</td>\n",
              "      <td>8.124038</td>\n",
              "      <td>54.772256</td>\n",
              "      <td>0.000000</td>\n",
              "    </tr>\n",
              "    <tr>\n",
              "      <th>3</th>\n",
              "      <td>Male</td>\n",
              "      <td>Yes</td>\n",
              "      <td>0</td>\n",
              "      <td>Not Graduate</td>\n",
              "      <td>No</td>\n",
              "      <td>360.0</td>\n",
              "      <td>1.0</td>\n",
              "      <td>Urban</td>\n",
              "      <td>Y</td>\n",
              "      <td>10.954451</td>\n",
              "      <td>50.823223</td>\n",
              "      <td>48.559242</td>\n",
              "    </tr>\n",
              "    <tr>\n",
              "      <th>4</th>\n",
              "      <td>Male</td>\n",
              "      <td>No</td>\n",
              "      <td>0</td>\n",
              "      <td>Graduate</td>\n",
              "      <td>No</td>\n",
              "      <td>360.0</td>\n",
              "      <td>1.0</td>\n",
              "      <td>Urban</td>\n",
              "      <td>Y</td>\n",
              "      <td>11.874342</td>\n",
              "      <td>77.459667</td>\n",
              "      <td>0.000000</td>\n",
              "    </tr>\n",
              "  </tbody>\n",
              "</table>\n",
              "</div>"
            ],
            "text/plain": [
              "  Gender Married  ... ApplicantIncome_normalized CoapplicantIncome_normalized\n",
              "0   Male      No  ...                  76.478755                     0.000000\n",
              "1   Male     Yes  ...                  67.697858                    38.832976\n",
              "2   Male     Yes  ...                  54.772256                     0.000000\n",
              "3   Male     Yes  ...                  50.823223                    48.559242\n",
              "4   Male      No  ...                  77.459667                     0.000000\n",
              "\n",
              "[5 rows x 12 columns]"
            ]
          },
          "metadata": {},
          "execution_count": 19
        }
      ],
      "source": [
        "final_training_data.head()"
      ]
    },
    {
      "cell_type": "code",
      "execution_count": 20,
      "id": "6fab645c",
      "metadata": {
        "id": "6fab645c"
      },
      "outputs": [],
      "source": [
        "# Encode the labeled the data\n",
        "from sklearn.preprocessing import LabelEncoder\n",
        "label_encoder = LabelEncoder()\n",
        "\n",
        "final_training_data = final_training_data.apply(label_encoder.fit_transform)"
      ]
    },
    {
      "cell_type": "code",
      "execution_count": 21,
      "id": "115a8daa",
      "metadata": {
        "colab": {
          "base_uri": "https://localhost:8080/",
          "height": 226
        },
        "id": "115a8daa",
        "outputId": "1b1f20d6-d6d7-40e3-86a5-b01c80093ae2"
      },
      "outputs": [
        {
          "output_type": "execute_result",
          "data": {
            "text/html": [
              "<div>\n",
              "<style scoped>\n",
              "    .dataframe tbody tr th:only-of-type {\n",
              "        vertical-align: middle;\n",
              "    }\n",
              "\n",
              "    .dataframe tbody tr th {\n",
              "        vertical-align: top;\n",
              "    }\n",
              "\n",
              "    .dataframe thead th {\n",
              "        text-align: right;\n",
              "    }\n",
              "</style>\n",
              "<table border=\"1\" class=\"dataframe\">\n",
              "  <thead>\n",
              "    <tr style=\"text-align: right;\">\n",
              "      <th></th>\n",
              "      <th>Gender</th>\n",
              "      <th>Married</th>\n",
              "      <th>Dependents</th>\n",
              "      <th>Education</th>\n",
              "      <th>Self_Employed</th>\n",
              "      <th>Loan_Amount_Term</th>\n",
              "      <th>Credit_History</th>\n",
              "      <th>Property_Area</th>\n",
              "      <th>Loan_Status</th>\n",
              "      <th>LoanAmount_normalized</th>\n",
              "      <th>ApplicantIncome_normalized</th>\n",
              "      <th>CoapplicantIncome_normalized</th>\n",
              "    </tr>\n",
              "  </thead>\n",
              "  <tbody>\n",
              "    <tr>\n",
              "      <th>0</th>\n",
              "      <td>1</td>\n",
              "      <td>0</td>\n",
              "      <td>0</td>\n",
              "      <td>0</td>\n",
              "      <td>0</td>\n",
              "      <td>8</td>\n",
              "      <td>1</td>\n",
              "      <td>2</td>\n",
              "      <td>1</td>\n",
              "      <td>91</td>\n",
              "      <td>376</td>\n",
              "      <td>0</td>\n",
              "    </tr>\n",
              "    <tr>\n",
              "      <th>1</th>\n",
              "      <td>1</td>\n",
              "      <td>1</td>\n",
              "      <td>1</td>\n",
              "      <td>0</td>\n",
              "      <td>0</td>\n",
              "      <td>8</td>\n",
              "      <td>1</td>\n",
              "      <td>0</td>\n",
              "      <td>0</td>\n",
              "      <td>81</td>\n",
              "      <td>306</td>\n",
              "      <td>60</td>\n",
              "    </tr>\n",
              "    <tr>\n",
              "      <th>2</th>\n",
              "      <td>1</td>\n",
              "      <td>1</td>\n",
              "      <td>0</td>\n",
              "      <td>0</td>\n",
              "      <td>1</td>\n",
              "      <td>8</td>\n",
              "      <td>1</td>\n",
              "      <td>2</td>\n",
              "      <td>1</td>\n",
              "      <td>26</td>\n",
              "      <td>139</td>\n",
              "      <td>0</td>\n",
              "    </tr>\n",
              "    <tr>\n",
              "      <th>3</th>\n",
              "      <td>1</td>\n",
              "      <td>1</td>\n",
              "      <td>0</td>\n",
              "      <td>1</td>\n",
              "      <td>0</td>\n",
              "      <td>8</td>\n",
              "      <td>1</td>\n",
              "      <td>2</td>\n",
              "      <td>1</td>\n",
              "      <td>73</td>\n",
              "      <td>90</td>\n",
              "      <td>160</td>\n",
              "    </tr>\n",
              "    <tr>\n",
              "      <th>4</th>\n",
              "      <td>1</td>\n",
              "      <td>0</td>\n",
              "      <td>0</td>\n",
              "      <td>0</td>\n",
              "      <td>0</td>\n",
              "      <td>8</td>\n",
              "      <td>1</td>\n",
              "      <td>2</td>\n",
              "      <td>1</td>\n",
              "      <td>95</td>\n",
              "      <td>381</td>\n",
              "      <td>0</td>\n",
              "    </tr>\n",
              "  </tbody>\n",
              "</table>\n",
              "</div>"
            ],
            "text/plain": [
              "   Gender  Married  ...  ApplicantIncome_normalized  CoapplicantIncome_normalized\n",
              "0       1        0  ...                         376                             0\n",
              "1       1        1  ...                         306                            60\n",
              "2       1        1  ...                         139                             0\n",
              "3       1        1  ...                          90                           160\n",
              "4       1        0  ...                         381                             0\n",
              "\n",
              "[5 rows x 12 columns]"
            ]
          },
          "metadata": {},
          "execution_count": 21
        }
      ],
      "source": [
        "final_training_data.head()"
      ]
    },
    {
      "cell_type": "code",
      "execution_count": 22,
      "id": "b86d75c3",
      "metadata": {
        "id": "b86d75c3"
      },
      "outputs": [],
      "source": [
        "# divide data into train and test dataset\n",
        "from sklearn.model_selection import train_test_split\n",
        "train_dataset, test_dataset = train_test_split(final_training_data, test_size=0.2, random_state=0) "
      ]
    },
    {
      "cell_type": "code",
      "execution_count": 23,
      "id": "725e047f",
      "metadata": {
        "colab": {
          "base_uri": "https://localhost:8080/"
        },
        "id": "725e047f",
        "outputId": "932ec91b-f9c4-434a-b481-a4e9e4b7f9f1"
      },
      "outputs": [
        {
          "output_type": "execute_result",
          "data": {
            "text/plain": [
              "((491, 12), (123, 12))"
            ]
          },
          "metadata": {},
          "execution_count": 23
        }
      ],
      "source": [
        "train_dataset.shape, test_dataset.shape"
      ]
    },
    {
      "cell_type": "code",
      "execution_count": 24,
      "id": "db5e421f",
      "metadata": {
        "id": "db5e421f"
      },
      "outputs": [],
      "source": [
        "train_input = train_dataset.drop(columns=[\"Loan_Status\"]).values\n",
        "train_output = train_dataset[\"Loan_Status\"].values\n",
        "\n",
        "test_input = test_dataset.drop(columns=[\"Loan_Status\"]).values\n",
        "test_output = test_dataset[\"Loan_Status\"].values"
      ]
    },
    {
      "cell_type": "code",
      "execution_count": 25,
      "id": "c3950d56",
      "metadata": {
        "id": "c3950d56"
      },
      "outputs": [],
      "source": [
        "# Scaling the data\n",
        "from sklearn.preprocessing import StandardScaler\n",
        "scaler = StandardScaler()\n",
        "train_input = scaler.fit_transform(train_input)\n",
        "test_input = scaler.fit_transform(test_input)"
      ]
    },
    {
      "cell_type": "markdown",
      "id": "60ed5f4f",
      "metadata": {
        "id": "60ed5f4f"
      },
      "source": [
        "## Training"
      ]
    },
    {
      "cell_type": "code",
      "execution_count": 26,
      "id": "95454565",
      "metadata": {
        "colab": {
          "base_uri": "https://localhost:8080/"
        },
        "id": "95454565",
        "outputId": "3849d87a-00f7-481b-9090-56d6ec8aba19"
      },
      "outputs": [
        {
          "output_type": "execute_result",
          "data": {
            "text/plain": [
              "GaussianNB()"
            ]
          },
          "metadata": {},
          "execution_count": 26
        }
      ],
      "source": [
        "# Training naive bayes classifier model\n",
        "from sklearn.naive_bayes import GaussianNB\n",
        "model = GaussianNB()\n",
        "model.fit(train_input, train_output)"
      ]
    },
    {
      "cell_type": "code",
      "execution_count": 27,
      "id": "ec3f6b8d",
      "metadata": {
        "colab": {
          "base_uri": "https://localhost:8080/"
        },
        "id": "ec3f6b8d",
        "outputId": "ac52c0d6-b91a-4382-e41c-00bdfc96fdec"
      },
      "outputs": [
        {
          "output_type": "execute_result",
          "data": {
            "text/plain": [
              "0.8292682926829268"
            ]
          },
          "metadata": {},
          "execution_count": 27
        }
      ],
      "source": [
        "# Calculate accuracy\n",
        "from sklearn import metrics\n",
        "test_predictions = model.predict(test_input)\n",
        "accuracy = metrics.accuracy_score(test_predictions, test_output)\n",
        "accuracy    # ~83% accuracy"
      ]
    },
    {
      "cell_type": "markdown",
      "id": "dacaa0cb",
      "metadata": {
        "id": "dacaa0cb"
      },
      "source": [
        "## Inference"
      ]
    },
    {
      "cell_type": "code",
      "execution_count": 31,
      "id": "e7fdf4ad",
      "metadata": {
        "id": "e7fdf4ad"
      },
      "outputs": [],
      "source": [
        "inference_datapath = \"/content/test_data.csv\"  # path of the dataset which you want to predict or generate a test case data to test it\n",
        "inference_data = pd.read_csv(inference_datapath)"
      ]
    },
    {
      "cell_type": "code",
      "execution_count": 32,
      "id": "26e45912",
      "metadata": {
        "id": "26e45912"
      },
      "outputs": [],
      "source": [
        "inference_data = normalize_data(inference_data, [\"LoanAmount\", \"ApplicantIncome\", \"CoapplicantIncome\"])\n",
        "inference_data = handle_null(inference_data, [\"Gender\", \"Married\", \"Dependents\", \"Self_Employed\", \n",
        "                                            \"Loan_Amount_Term\", \"Credit_History\"], \n",
        "                            [\"LoanAmount_normalized\"])"
      ]
    },
    {
      "cell_type": "code",
      "execution_count": 33,
      "id": "f5ad9026",
      "metadata": {
        "id": "f5ad9026"
      },
      "outputs": [],
      "source": [
        "relevant_fields = [\"Gender\", \"Married\", \"Dependents\", \"Education\", \"Self_Employed\", \"Loan_Amount_Term\", \"Credit_History\",\n",
        "                  \"Property_Area\", \"LoanAmount_normalized\", \"ApplicantIncome_normalized\", \"CoapplicantIncome_normalized\"]\n",
        "inference_data = inference_data[[*relevant_fields]]\n",
        "inference_data = inference_data.apply(label_encoder.fit_transform)"
      ]
    },
    {
      "cell_type": "code",
      "execution_count": 34,
      "id": "2c18502f",
      "metadata": {
        "id": "2c18502f"
      },
      "outputs": [],
      "source": [
        "inference_input = scaler.fit_transform(inference_data.values)\n",
        "inference_predictions = model.predict(inference_input)"
      ]
    },
    {
      "cell_type": "markdown",
      "source": [
        "#**Created By - RAHUL BHUVA**"
      ],
      "metadata": {
        "id": "KUB7jREsrIBf"
      },
      "id": "KUB7jREsrIBf"
    }
  ],
  "metadata": {
    "kernelspec": {
      "display_name": "Python 3",
      "language": "python",
      "name": "python3"
    },
    "language_info": {
      "codemirror_mode": {
        "name": "ipython",
        "version": 3
      },
      "file_extension": ".py",
      "mimetype": "text/x-python",
      "name": "python",
      "nbconvert_exporter": "python",
      "pygments_lexer": "ipython3",
      "version": "3.6.5"
    },
    "colab": {
      "name": "Internship- 1.ipynb",
      "provenance": []
    }
  },
  "nbformat": 4,
  "nbformat_minor": 5
}